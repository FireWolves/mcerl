{
 "cells": [
  {
   "cell_type": "code",
   "execution_count": null,
   "metadata": {},
   "outputs": [],
   "source": [
    "from __future__ import annotations\n",
    "\n",
    "import numpy as np\n",
    "from matplotlib import pyplot as plt\n",
    "import mcerl"
   ]
  },
  {
   "cell_type": "code",
   "execution_count": null,
   "metadata": {},
   "outputs": [],
   "source": [
    "test_map=np.ndarray(shape=(100,100),dtype=np.uint8)\n",
    "test_map.fill(255)\n",
    "test_map[20:70,20:30]=0\n",
    "test_map[30:40,10:50]=0\n",
    "test_grid_map=mcerl.GridMap(test_map)\n",
    "num_agents=2\n",
    "agent_poses=[(10,10),(60,60)]\n",
    "num_rays=32\n",
    "max_steps=200\n",
    "max_steps_per_agent=40\n",
    "ray_range=20\n",
    "velocity=1\n",
    "min_frontier_size=5\n",
    "max_frontier_size=20\n",
    "env = mcerl.Environment(num_agents, max_steps, max_steps_per_agent,velocity,ray_range,num_rays,min_frontier_size,max_frontier_size)\n",
    "plt.imshow(test_grid_map,cmap='gray')"
   ]
  },
  {
   "cell_type": "code",
   "execution_count": null,
   "metadata": {},
   "outputs": [],
   "source": [
    "observations:dict[int,list[dict[str,any]]]={}\n",
    "infos:dict[int,list[tuple[int,int,int]]]={}\n",
    "rewards:dict[int,list[float]]={}\n",
    "dones:dict[int,list[bool]]={}"
   ]
  },
  {
   "cell_type": "code",
   "execution_count": null,
   "metadata": {},
   "outputs": [],
   "source": [
    "import random\n",
    "\n",
    "\n",
    "obs,done,info=env.reset(test_grid_map,[(60,60),(70,70)])\n",
    "obs_dict={\"frontier_points\":[(*frontier_point.pos,frontier_point.unexplored_pixels) for frontier_point in obs.frontier_points],\n",
    "         \"pos\":obs.robot_poses,\n",
    "         }\n",
    "if info.robot_id not in observations:\n",
    "    observations[info.robot_id]=[obs_dict]\n",
    "else:\n",
    "    observations[info.robot_id].append(obs_dict)\n",
    "\n",
    "if info.robot_id not in dones:\n",
    "    dones[info.robot_id]=[done]\n",
    "else:\n",
    "    dones[info.robot_id].append(done)\n",
    "\n",
    "info_dict={\n",
    "    \"robot_id\":info.robot_id,\n",
    "    \"step_cnt\":info.step_cnt,\n",
    "    \"agent_step_cnt\":info.agent_step_cnt,\n",
    "    \"exploration_rate\":info.exploration_rate,\n",
    "}\n",
    "if info.robot_id not in infos:\n",
    "    infos[info.robot_id]=[info_dict]\n",
    "else:\n",
    "    infos[info.robot_id].append(info_dict)\n",
    "\n",
    "plt.imshow(env.agent_map(info.robot_id),cmap='gray',vmin=0,vmax=255)\n",
    "for frontier_point in obs.frontier_points:\n",
    "    plt.plot(frontier_point.pos[1],frontier_point.pos[0],'ro')"
   ]
  },
  {
   "cell_type": "code",
   "execution_count": null,
   "metadata": {},
   "outputs": [],
   "source": [
    "observations"
   ]
  },
  {
   "cell_type": "code",
   "execution_count": null,
   "metadata": {},
   "outputs": [],
   "source": [
    "infos"
   ]
  },
  {
   "cell_type": "code",
   "execution_count": null,
   "metadata": {},
   "outputs": [],
   "source": [
    "rewards"
   ]
  },
  {
   "cell_type": "code",
   "execution_count": null,
   "metadata": {},
   "outputs": [],
   "source": [
    "dones"
   ]
  },
  {
   "cell_type": "code",
   "execution_count": null,
   "metadata": {},
   "outputs": [],
   "source": [
    "action_required_robot_id=info.robot_id\n",
    "num_frontiers=len(observations[action_required_robot_id][-1][\"frontier_points\"])\n",
    "action=random.randint(0,num_frontiers-1)\n",
    "obs,reward,done,info=env.step(action_required_robot_id,action)\n",
    "obs_dict={\"frontier_points\":[(*frontier_point.pos,frontier_point.unexplored_pixels) for frontier_point in obs.frontier_points],\n",
    "        \"pos\":obs.robot_poses,\n",
    "        }\n",
    "if info.robot_id not in observations:\n",
    "    observations[info.robot_id]=[obs_dict]\n",
    "else:\n",
    "    observations[info.robot_id].append(obs_dict)\n",
    "\n",
    "if info.robot_id not in dones:\n",
    "    dones[info.robot_id]=[done]\n",
    "else:\n",
    "    dones[info.robot_id].append(done)\n",
    "info_dict={\n",
    "    \"robot_id\":info.robot_id,\n",
    "    \"step_cnt\":info.step_cnt,\n",
    "    \"agent_step_cnt\":info.agent_step_cnt,\n",
    "    \"exploration_rate\":info.exploration_rate,\n",
    "}\n",
    "if info.robot_id not in infos:\n",
    "    infos[info.robot_id]=[info_dict]\n",
    "else:\n",
    "    infos[info.robot_id].append(info_dict)\n",
    "\n",
    "if info.agent_step_cnt !=0:\n",
    "    if info.robot_id not in rewards:\n",
    "        rewards[info.robot_id]=[reward.exploration_reward]\n",
    "    else:\n",
    "        rewards[info.robot_id].append(reward.exploration_reward)\n",
    "\n",
    "\n",
    "action_required_robot_id=info.robot_id\n",
    "plt.imshow(env.agent_map(info.robot_id),cmap='gray',vmin=0,vmax=255)\n",
    "for frontier_point in obs.frontier_points:\n",
    "    plt.plot(frontier_point.pos[0],frontier_point.pos[1],'ro')"
   ]
  },
  {
   "cell_type": "code",
   "execution_count": null,
   "metadata": {},
   "outputs": [],
   "source": [
    "done"
   ]
  },
  {
   "cell_type": "code",
   "execution_count": null,
   "metadata": {},
   "outputs": [],
   "source": [
    "obs.frontier_points"
   ]
  },
  {
   "cell_type": "code",
   "execution_count": null,
   "metadata": {},
   "outputs": [],
   "source": [
    "plt.imshow(env.global_map(),cmap='gray',vmin=0,vmax=255)\n",
    "frontiers=env.test_frontier_detection(env.global_map(),min_frontier_size,max_frontier_size,ray_range)\n",
    "for frontier_point in frontiers:\n",
    "    plt.plot(frontier_point.pos[0],frontier_point.pos[1],'ro')"
   ]
  }
 ],
 "metadata": {
  "kernelspec": {
   "display_name": "Python 3",
   "language": "python",
   "name": "python3"
  },
  "language_info": {
   "codemirror_mode": {
    "name": "ipython",
    "version": 3
   },
   "file_extension": ".py",
   "mimetype": "text/x-python",
   "name": "python",
   "nbconvert_exporter": "python",
   "pygments_lexer": "ipython3",
   "version": "3.10.12"
  }
 },
 "nbformat": 4,
 "nbformat_minor": 2
}
