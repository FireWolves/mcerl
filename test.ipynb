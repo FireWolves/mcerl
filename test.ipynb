{
 "cells": [
  {
   "cell_type": "code",
   "execution_count": null,
   "metadata": {},
   "outputs": [],
   "source": [
    "from __future__ import annotations\n",
    "\n",
    "import numpy as np\n",
    "from matplotlib import pyplot as plt\n",
    "\n",
    "%env SPDLOG_LEVEL=trace\n",
    "import mcerl\n",
    "from mcerl.env import Env\n"
   ]
  },
  {
   "cell_type": "code",
   "execution_count": null,
   "metadata": {},
   "outputs": [],
   "source": [
    "test_map = np.ndarray(shape=(100, 100), dtype=np.uint8)\n",
    "test_map.fill(255)\n",
    "test_map[20:70, 20:30] = 0\n",
    "test_map[30:40, 10:50] = 0\n",
    "test_grid_map = mcerl.GridMap(test_map)\n",
    "num_agents = 2\n",
    "agent_poses = [(10, 10), (60, 60)]\n",
    "num_rays = 32\n",
    "max_steps = 200\n",
    "max_steps_per_agent = 40\n",
    "ray_range = 20\n",
    "velocity = 1\n",
    "min_frontier_size = 5\n",
    "max_frontier_size = 20\n",
    "env = Env(\n",
    "    num_agents=num_agents,\n",
    "    max_steps=max_steps,\n",
    "    max_steps_per_agent=max_steps_per_agent,\n",
    "    velocity=velocity,\n",
    "    sensor_range=ray_range,\n",
    "    num_rays=num_rays,\n",
    "    min_frontier_pixel=min_frontier_size,\n",
    "    max_frontier_pixel=max_frontier_size,\n",
    ")"
   ]
  },
  {
   "cell_type": "code",
   "execution_count": null,
   "metadata": {},
   "outputs": [],
   "source": [
    "def policy(observation):\n",
    "    action_space = len(observation[\"frontier_points\"])\n",
    "    if action_space > 0:\n",
    "        rng = np.random.default_rng()\n",
    "        return rng.integers(action_space).item() # type: ignore  # noqa: PGH003\n",
    "    return 0"
   ]
  },
  {
   "cell_type": "code",
   "execution_count": null,
   "metadata": {},
   "outputs": [],
   "source": [
    "trajectories = []\n",
    "frame_data = env.reset(test_map, agent_poses)\n",
    "trajectories.append(frame_data)\n",
    "while True:\n",
    "    agent_id = frame_data['info']['agent_id']\n",
    "    action_index = policy(frame_data[\"observation\"])\n",
    "    frame_data[\"action\"] = action_index\n",
    "    frame_data = env.step(agent_id, action_index)\n",
    "    trajectories.append(frame_data)\n",
    "    if env.done() is True:\n",
    "        break"
   ]
  },
  {
   "cell_type": "code",
   "execution_count": null,
   "metadata": {},
   "outputs": [],
   "source": [
    "trajectories"
   ]
  },
  {
   "cell_type": "code",
   "execution_count": null,
   "metadata": {},
   "outputs": [],
   "source": [
    "def split_trajectories(trajectories):\n",
    "    \"\"\"split trajectory into agent-wise trajectories\"\"\"\n",
    "    agent_trajectories = []\n",
    "    for agent_id in range(num_agents):\n",
    "        agent_trajectory = [\n",
    "            frame_data\n",
    "            for frame_data in trajectories\n",
    "            if frame_data[\"info\"][\"agent_id\"] == agent_id\n",
    "        ]\n",
    "        agent_trajectories.append(agent_trajectory)\n",
    "    return agent_trajectories"
   ]
  },
  {
   "cell_type": "code",
   "execution_count": null,
   "metadata": {},
   "outputs": [],
   "source": [
    "def pad_trajectory(trajectory) -> list:\n",
    "    \"\"\"\n",
    "    In this environment, we won't get an observation when done is True.\n",
    "    However, we need to pad the trajectories to stack them.\n",
    "    use T-1's observation to pad T, it's ok because we never use this state (normally).\n",
    "    we also delete those states after done for waiting for remaining agents to finish.\n",
    "    \"\"\"\n",
    "    if len(trajectory) < 2:\n",
    "        return trajectory\n",
    "    trajectory_out = []\n",
    "    for i in range(len(trajectory)):\n",
    "        trajectory_out.append(trajectory[i])\n",
    "        if trajectory[i][\"done\"]:\n",
    "            trajectory_out[-1][\"observation\"] = trajectory_out[-2][\"observation\"]\n",
    "            break\n",
    "    return trajectory_out\n",
    "\n"
   ]
  },
  {
   "cell_type": "code",
   "execution_count": null,
   "metadata": {},
   "outputs": [],
   "source": [
    "def refine_trajectory(trajectory):\n",
    "    \"\"\"transform the trajectory\n",
    "    (O_k,I_k,D_k A_k, R_k-1)\n",
    "    to\n",
    "    (O_k, I_k,D_k, A_k,\n",
    "    next(R_k, O_k+1,I_k+1,D_k+1)\n",
    "    )\"\"\"\n",
    "    refined_trajectory = []\n",
    "    for i in range(len(trajectory) - 1):\n",
    "        refined_trajectory.append(\n",
    "            {\n",
    "                \"observation\": trajectory[i][\"observation\"],\n",
    "                \"info\": trajectory[i][\"info\"],\n",
    "                \"done\": trajectory[i][\"done\"],\n",
    "                \"action\": trajectory[i][\"action\"],\n",
    "                \"next\": {\n",
    "                    \"reward\": trajectory[i + 1][\"reward\"],\n",
    "                    \"observation\": trajectory[i + 1][\"observation\"],\n",
    "                    \"info\": trajectory[i + 1][\"info\"],\n",
    "                    \"done\": trajectory[i + 1][\"done\"],\n",
    "                },\n",
    "            }\n",
    "        )\n",
    "    return refined_trajectory"
   ]
  },
  {
   "cell_type": "code",
   "execution_count": null,
   "metadata": {},
   "outputs": [],
   "source": [
    "import tensordict\n",
    "from tensordict import LazyStackedTensorDict\n",
    "\n",
    "\n",
    "def stack_trajectory(trajectory):\n",
    "    \"\"\"\n",
    "    stack trajectory to tensordict\n",
    "    \"\"\"\n",
    "    return LazyStackedTensorDict.maybe_dense_stack(\n",
    "        [tensordict.TensorDict(frame_data) for frame_data in trajectory]\n",
    "    )"
   ]
  },
  {
   "cell_type": "code",
   "execution_count": null,
   "metadata": {},
   "outputs": [],
   "source": [
    "rollouts = split_trajectories(trajectories)\n",
    "rollouts = [pad_trajectory(rollout) for rollout in rollouts]\n",
    "rollouts = [refine_trajectory(rollout) for rollout in rollouts]"
   ]
  },
  {
   "cell_type": "code",
   "execution_count": null,
   "metadata": {},
   "outputs": [],
   "source": [
    "stacked_rollouts = [stack_trajectory(rollout) for rollout in rollouts]"
   ]
  },
  {
   "cell_type": "code",
   "execution_count": null,
   "metadata": {},
   "outputs": [],
   "source": [
    "stacked_rollouts[0][0][\"next\"][\"observation\"]"
   ]
  }
 ],
 "metadata": {
  "kernelspec": {
   "display_name": "Python 3",
   "language": "python",
   "name": "python3"
  },
  "language_info": {
   "codemirror_mode": {
    "name": "ipython",
    "version": 3
   },
   "file_extension": ".py",
   "mimetype": "text/x-python",
   "name": "python",
   "nbconvert_exporter": "python",
   "pygments_lexer": "ipython3",
   "version": "3.10.12"
  }
 },
 "nbformat": 4,
 "nbformat_minor": 2
}
