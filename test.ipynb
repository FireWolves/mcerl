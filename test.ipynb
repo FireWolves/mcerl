{
 "cells": [
  {
   "cell_type": "code",
   "execution_count": null,
   "metadata": {},
   "outputs": [],
   "source": [
    "from __future__ import annotations\n",
    "\n",
    "import numpy as np\n",
    "\n",
    "%env SPDLOG_LEVEL=trace\n",
    "import mcerl\n",
    "from mcerl.env import Env\n",
    "from mcerl.utils import (\n",
    "    multi_threaded_rollout,\n",
    "    pad_trajectory,\n",
    "    refine_trajectory,\n",
    "    split_trajectories,\n",
    "    stack_trajectory,\n",
    ")\n"
   ]
  },
  {
   "cell_type": "code",
   "execution_count": null,
   "metadata": {},
   "outputs": [],
   "source": [
    "grid_map = np.ndarray(shape=(100, 100), dtype=np.uint8)\n",
    "grid_map.fill(255)\n",
    "grid_map[20:70, 20:30] = 0\n",
    "grid_map[30:40, 10:50] = 0\n",
    "test_grid_map = mcerl.GridMap(grid_map)\n",
    "num_agents = 4\n",
    "agent_poses = [(10, 10), (60, 60), (70, 70), (80, 80)]\n",
    "num_rays = 32\n",
    "max_steps = 1000\n",
    "max_steps_per_agent = 40\n",
    "ray_range = 20\n",
    "velocity = 1\n",
    "min_frontier_size = 5\n",
    "max_frontier_size = 20\n",
    "env = Env(\n",
    "    num_agents=num_agents,\n",
    "    max_steps=max_steps,\n",
    "    max_steps_per_agent=max_steps_per_agent,\n",
    "    velocity=velocity,\n",
    "    sensor_range=ray_range,\n",
    "    num_rays=num_rays,\n",
    "    min_frontier_pixel=min_frontier_size,\n",
    "    max_frontier_pixel=max_frontier_size,\n",
    ")"
   ]
  },
  {
   "cell_type": "code",
   "execution_count": null,
   "metadata": {},
   "outputs": [],
   "source": [
    "def policy(observation):\n",
    "    action_space = len(observation[\"frontier_points\"])\n",
    "    if action_space > 0:\n",
    "        rng = np.random.default_rng()\n",
    "        return rng.integers(action_space).item() # type: ignore  # noqa: PGH003\n",
    "    return 0"
   ]
  },
  {
   "cell_type": "code",
   "execution_count": null,
   "metadata": {},
   "outputs": [],
   "source": [
    "# Example usage\n",
    "num_threads = 15\n",
    "epochs = 10\n",
    "rollouts = multi_threaded_rollout(\n",
    "    env=lambda: Env(\n",
    "        num_agents=num_agents,\n",
    "        max_steps=max_steps,\n",
    "        max_steps_per_agent=max_steps_per_agent,\n",
    "        velocity=velocity,\n",
    "        sensor_range=ray_range,\n",
    "        num_rays=num_rays,\n",
    "        min_frontier_pixel=min_frontier_size,\n",
    "        max_frontier_pixel=max_frontier_size,\n",
    "    ),\n",
    "    grid_map=grid_map,\n",
    "    agent_poses=agent_poses,\n",
    "    policy=policy,\n",
    "    num_threads=num_threads,\n",
    "    epochs=epochs,\n",
    ")"
   ]
  },
  {
   "cell_type": "code",
   "execution_count": null,
   "metadata": {},
   "outputs": [],
   "source": [
    "trajectories = []\n",
    "frame_data = env.reset(grid_map, agent_poses)\n",
    "maps = []\n",
    "trajectories.append(frame_data)\n",
    "while True:\n",
    "    agent_id = frame_data[\"info\"][\"agent_id\"]\n",
    "    action_index = policy(frame_data[\"observation\"])\n",
    "    frame_data[\"action\"] = action_index\n",
    "    frame_data = env.step(agent_id, action_index)\n",
    "    trajectories.append(frame_data)\n",
    "    if env.done() is True:\n",
    "        break\n",
    "rollouts = split_trajectories(trajectories)\n",
    "rollouts = [pad_trajectory(rollout) for rollout in rollouts]\n",
    "rollouts = [refine_trajectory(rollout) for rollout in rollouts]\n",
    "stacked_rollouts = [stack_trajectory(rollout) for rollout in rollouts]"
   ]
  }
 ],
 "metadata": {
  "kernelspec": {
   "display_name": "Python 3",
   "language": "python",
   "name": "python3"
  },
  "language_info": {
   "codemirror_mode": {
    "name": "ipython",
    "version": 3
   },
   "file_extension": ".py",
   "mimetype": "text/x-python",
   "name": "python",
   "nbconvert_exporter": "python",
   "pygments_lexer": "ipython3",
   "version": "3.10.12"
  }
 },
 "nbformat": 4,
 "nbformat_minor": 2
}
