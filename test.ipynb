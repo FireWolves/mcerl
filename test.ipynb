{
 "cells": [
  {
   "cell_type": "code",
   "execution_count": null,
   "metadata": {},
   "outputs": [],
   "source": [
    "from __future__ import annotations\n",
    "\n",
    "import numpy as np\n",
    "\n",
    "%env SPDLOG_LEVEL=trace\n",
    "from matplotlib import pyplot as plt\n",
    "from PIL import Image, ImageOps\n",
    "\n",
    "import mcerl\n",
    "from mcerl.env import Env\n",
    "from mcerl.utils import (\n",
    "    pad_trajectory,\n",
    "    refine_trajectory,\n",
    "    split_trajectories,\n",
    "    stack_trajectory,\n",
    ")\n"
   ]
  },
  {
   "cell_type": "code",
   "execution_count": null,
   "metadata": {},
   "outputs": [],
   "source": [
    "img = Image.open(\"0.png\")\n",
    "img = ImageOps.grayscale(img)\n",
    "img = img.resize((300, 200))\n",
    "grid_map = np.array(img)\n",
    "plt.imshow(grid_map, cmap=\"gray\",vmin=0, vmax=255)"
   ]
  },
  {
   "cell_type": "code",
   "execution_count": null,
   "metadata": {},
   "outputs": [],
   "source": [
    "num_agents = 3\n",
    "agent_poses = None\n",
    "num_rays = 32\n",
    "max_steps = 100000\n",
    "max_steps_per_agent = 100\n",
    "ray_range = 30\n",
    "velocity = 1\n",
    "min_frontier_size = 8\n",
    "max_frontier_size = 30\n",
    "exploration_threshold = 0.95\n",
    "env = Env(\n",
    "    num_agents=num_agents,\n",
    "    max_steps=max_steps,\n",
    "    max_steps_per_agent=max_steps_per_agent,\n",
    "    velocity=velocity,\n",
    "    sensor_range=ray_range,\n",
    "    num_rays=num_rays,\n",
    "    min_frontier_pixel=min_frontier_size,\n",
    "    max_frontier_pixel=max_frontier_size,\n",
    "    exploration_threshold=exploration_threshold,\n",
    ")"
   ]
  },
  {
   "cell_type": "code",
   "execution_count": null,
   "metadata": {},
   "outputs": [],
   "source": [
    "(\n",
    "    env._env.test_xy_cv_mat(mcerl.GridMap(grid_map), (0, 0)),\n",
    "    env._env.test_xy_cv_mat(mcerl.GridMap(grid_map), (1, 0)),\n",
    "    env._env.test_xy_cv_mat(mcerl.GridMap(grid_map), (0, 1)),\n",
    ")"
   ]
  },
  {
   "cell_type": "code",
   "execution_count": null,
   "metadata": {},
   "outputs": [],
   "source": [
    "(\n",
    "    env._env.test_xy_coord(mcerl.GridMap(grid_map), (0, 0)),\n",
    "    env._env.test_xy_coord(mcerl.GridMap(grid_map), (1, 0)),\n",
    "    env._env.test_xy_coord(mcerl.GridMap(grid_map), (0, 1)),\n",
    ")"
   ]
  },
  {
   "cell_type": "code",
   "execution_count": null,
   "metadata": {},
   "outputs": [],
   "source": [
    "def policy(observation):\n",
    "    action_space = len(observation[\"frontier_points\"])\n",
    "    if action_space > 0:\n",
    "        rng = np.random.default_rng()\n",
    "        return rng.integers(action_space).item() # type: ignore  # noqa: PGH003\n",
    "    return 0"
   ]
  },
  {
   "cell_type": "code",
   "execution_count": null,
   "metadata": {},
   "outputs": [],
   "source": [
    "# Example usage\n",
    "# num_threads = 15\n",
    "# epochs = 10\n",
    "# rollouts = multi_threaded_rollout(\n",
    "#     env=lambda: Env(\n",
    "#         num_agents=num_agents,\n",
    "#         max_steps=max_steps,\n",
    "#         max_steps_per_agent=max_steps_per_agent,\n",
    "#         velocity=velocity,\n",
    "#         sensor_range=ray_range,\n",
    "#         num_rays=num_rays,\n",
    "#         min_frontier_pixel=min_frontier_size,\n",
    "#         max_frontier_pixel=max_frontier_size,\n",
    "#     ),\n",
    "#     grid_map=grid_map,\n",
    "#     agent_poses=agent_poses,\n",
    "#     policy=policy,\n",
    "#     num_threads=num_threads,\n",
    "#     epochs=epochs,\n",
    "# )"
   ]
  },
  {
   "cell_type": "code",
   "execution_count": null,
   "metadata": {},
   "outputs": [],
   "source": [
    "%matplotlib inline"
   ]
  },
  {
   "cell_type": "code",
   "execution_count": null,
   "metadata": {},
   "outputs": [],
   "source": [
    "trajectories = []\n",
    "frame_data = env.reset(grid_map, agent_poses)\n",
    "maps = []\n",
    "maps_1 = []\n",
    "maps_2 = []\n",
    "maps_3 = []\n",
    "trajectories.append(frame_data)\n",
    "while True:\n",
    "    agent_id = frame_data[\"info\"][\"agent_id\"]\n",
    "    action_index = policy(frame_data[\"observation\"])\n",
    "    frame_data[\"action\"] = action_index\n",
    "    frame_data = env.step(agent_id, action_index)\n",
    "    maps.append(env.global_map())\n",
    "    maps_1.append(env.agent_map(0))\n",
    "    maps_2.append(env.agent_map(1))\n",
    "    maps_3.append(env.agent_map(2))\n",
    "    trajectories.append(frame_data)\n",
    "    if env.done() is True:\n",
    "        break\n",
    "rollouts = split_trajectories(trajectories)\n",
    "rollouts = [pad_trajectory(rollout) for rollout in rollouts]\n",
    "rollouts = [refine_trajectory(rollout) for rollout in rollouts]\n",
    "stacked_rollouts = [stack_trajectory(rollout) for rollout in rollouts]"
   ]
  },
  {
   "cell_type": "code",
   "execution_count": null,
   "metadata": {},
   "outputs": [],
   "source": [
    "imgs = [Image.fromarray(img) for img in maps]\n",
    "imgs[0].save(\"array0.gif\", save_all=True, append_images=imgs[1:], duration=50, loop=0)\n",
    "imgs = [Image.fromarray(img) for img in maps_1]\n",
    "imgs[0].save(\"array1.gif\", save_all=True, append_images=imgs[1:], duration=50, loop=0)\n",
    "imgs = [Image.fromarray(img) for img in maps_2]\n",
    "imgs[0].save(\"array2.gif\", save_all=True, append_images=imgs[1:], duration=50, loop=0)\n",
    "imgs = [Image.fromarray(img) for img in maps_3]\n",
    "imgs[0].save(\"array3.gif\", save_all=True, append_images=imgs[1:], duration=50, loop=0)"
   ]
  }
 ],
 "metadata": {
  "kernelspec": {
   "display_name": "Python 3",
   "language": "python",
   "name": "python3"
  },
  "language_info": {
   "codemirror_mode": {
    "name": "ipython",
    "version": 3
   },
   "file_extension": ".py",
   "mimetype": "text/x-python",
   "name": "python",
   "nbconvert_exporter": "python",
   "pygments_lexer": "ipython3",
   "version": "3.10.12"
  }
 },
 "nbformat": 4,
 "nbformat_minor": 2
}
