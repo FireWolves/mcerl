{
 "cells": [
  {
   "cell_type": "code",
   "execution_count": null,
   "metadata": {},
   "outputs": [],
   "source": [
    "from __future__ import annotations\n",
    "\n",
    "import numpy as np\n",
    "from matplotlib import pyplot as plt\n",
    "\n",
    "%env SPDLOG_LEVEL=trace\n",
    "import mcerl\n",
    "from mcerl.env import Env\n"
   ]
  },
  {
   "cell_type": "code",
   "execution_count": null,
   "metadata": {},
   "outputs": [],
   "source": [
    "test_map = np.ndarray(shape=(100, 100), dtype=np.uint8)\n",
    "test_map.fill(255)\n",
    "test_map[20:70, 20:30] = 0\n",
    "test_map[30:40, 10:50] = 0\n",
    "test_grid_map = mcerl.GridMap(test_map)\n",
    "num_agents = 2\n",
    "agent_poses = [(10, 10), (60, 60)]\n",
    "num_rays = 32\n",
    "max_steps = 200\n",
    "max_steps_per_agent = 40\n",
    "ray_range = 20\n",
    "velocity = 1\n",
    "min_frontier_size = 5\n",
    "max_frontier_size = 20\n",
    "env = Env(\n",
    "    num_agents=num_agents,\n",
    "    max_steps=max_steps,\n",
    "    max_steps_per_agent=max_steps_per_agent,\n",
    "    velocity=velocity,\n",
    "    sensor_range=ray_range,\n",
    "    num_rays=num_rays,\n",
    "    min_frontier_pixel=min_frontier_size,\n",
    "    max_frontier_pixel=max_frontier_size,\n",
    ")"
   ]
  },
  {
   "cell_type": "code",
   "execution_count": null,
   "metadata": {},
   "outputs": [],
   "source": [
    "rollout = []\n",
    "frame_data = env.reset(test_map, agent_poses)\n",
    "rollout.append(frame_data)\n",
    "while True:\n",
    "    frame_data = env.step(*env.random_action())\n",
    "    rollout.append(frame_data)\n",
    "    if env.done() is True:\n",
    "        break"
   ]
  },
  {
   "cell_type": "code",
   "execution_count": null,
   "metadata": {},
   "outputs": [],
   "source": [
    "rollout"
   ]
  },
  {
   "cell_type": "code",
   "execution_count": null,
   "metadata": {},
   "outputs": [],
   "source": [
    "plt.imshow(env._env.agent_map(1), cmap=\"gray\",vmin=0, vmax=255)"
   ]
  },
  {
   "cell_type": "code",
   "execution_count": null,
   "metadata": {},
   "outputs": [],
   "source": [
    "# split trajectory into agent-wise trajectories\n",
    "\n",
    "def split_trajectories(rollout):\n",
    "    agent_rollouts = []\n",
    "    for agent_id in range(num_agents):\n",
    "        agent_rollout=[frame_data for frame_data in rollout if frame_data[\"robot_id\"] == agent_id]\n",
    "        agent_rollouts.append(agent_rollout)\n",
    "    return agent_rollouts"
   ]
  },
  {
   "cell_type": "code",
   "execution_count": null,
   "metadata": {},
   "outputs": [],
   "source": [
    "from tensordict import LazyStackedTensorDict\n",
    "import tensordict\n",
    "\n",
    "\n",
    "def trajectory_to_tensordict(traj):\n",
    "    \"\"\"\n",
    "    Note: this will change the order of frontier points from (n,x,y) to (x,y,n)\n",
    "    \"\"\"\n",
    "    return LazyStackedTensorDict.maybe_dense_stack(\n",
    "        [tensordict.TensorDict(frame_data).transpose(0, 1) for frame_data in traj]\n",
    "    )"
   ]
  },
  {
   "cell_type": "code",
   "execution_count": null,
   "metadata": {},
   "outputs": [],
   "source": [
    "rollout = split_trajectories(rollout)\n",
    "rollout"
   ]
  },
  {
   "cell_type": "code",
   "execution_count": null,
   "metadata": {},
   "outputs": [],
   "source": [
    "for agent_rollout in rollout:\n",
    "    agent_rollout=trajectory_to_tensordict(agent_rollout)"
   ]
  }
 ],
 "metadata": {
  "kernelspec": {
   "display_name": "Python 3",
   "language": "python",
   "name": "python3"
  },
  "language_info": {
   "codemirror_mode": {
    "name": "ipython",
    "version": 3
   },
   "file_extension": ".py",
   "mimetype": "text/x-python",
   "name": "python",
   "nbconvert_exporter": "python",
   "pygments_lexer": "ipython3",
   "version": "3.10.12"
  }
 },
 "nbformat": 4,
 "nbformat_minor": 2
}
